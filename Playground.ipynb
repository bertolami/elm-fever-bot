{
 "cells": [
  {
   "cell_type": "code",
   "execution_count": 9,
   "metadata": {
    "collapsed": true
   },
   "outputs": [],
   "source": [
    "import urllib.parse\n",
    "import urllib.request\n",
    "import websocket\n",
    "import json\n",
    "\n",
    "REGISTER_URL='http://192.168.2.86:8080/api/register'\n",
    "WS_GS_URL='ws://192.168.2.86:8080/gameState'\n",
    "WS_MOV_URL='ws://192.168.2.86:8080/moves'\n",
    "#REGISTER_URL='http://postb.in/zDxe2X2e'\n",
    "\n",
    "\n"
   ]
  },
  {
   "cell_type": "code",
   "execution_count": 10,
   "metadata": {
    "collapsed": true
   },
   "outputs": [],
   "source": [
    "def register(name, color) :\n",
    "    values = {'name' : name,\n",
    "          'color' : color}\n",
    "\n",
    "    data = json.dumps(values)\n",
    "    data = data.encode('ascii') # data should be bytes\n",
    "    req = urllib.request.Request(REGISTER_URL, data)\n",
    "    req.add_header('content-type', 'application/json')\n",
    "    with urllib.request.urlopen(req) as response:\n",
    "        the_page = response.read()\n",
    "        \n",
    "\n",
    "def on_message(ws, message):\n",
    "    print(message)\n",
    "\n",
    "def on_error(ws, error):\n",
    "    print(error)\n",
    "\n",
    "def on_close(ws):\n",
    "    print(\"### closed ###\")\n",
    "\n",
    "def on_open(ws):\n",
    "    print(\"### open ###\")\n",
    "\n",
    "   # def run(*args):\n",
    "   #     for i in range(3):\n",
    "   #         time.sleep(1)\n",
    "   #         ws.send(\"Hello %d\" % i)\n",
    "   #     time.sleep(1)\n",
    "   #     ws.close()\n",
    "   #     print(\"thread terminating...\")\n",
    "   # thread.start_new_thread(run, ())\n",
    "\n",
    "\n",
    "\n",
    "websocket.enableTrace(True)\n",
    "ws_gs = websocket.WebSocketApp(WS_GS_URL,\n",
    "                              on_message = on_message,\n",
    "                              on_error = on_error,\n",
    "                              on_close = on_close)\n",
    "ws_gs.on_open = on_open\n",
    "\n",
    "ws_mov = websocket.WebSocketApp(WS_MOV_URL,\n",
    "                              on_message = on_message,\n",
    "                              on_error = on_error,\n",
    "                              on_close = on_close)\n",
    "\n",
    "ws_mov.on_open = on_open    \n",
    "    "
   ]
  },
  {
   "cell_type": "code",
   "execution_count": null,
   "metadata": {},
   "outputs": [
    {
     "name": "stderr",
     "output_type": "stream",
     "text": [
      "--- request header ---\n",
      "GET /gameState HTTP/1.1\n",
      "Upgrade: websocket\n",
      "Connection: Upgrade\n",
      "Host: 192.168.2.86:8080\n",
      "Origin: http://192.168.2.86:8080\n",
      "Sec-WebSocket-Key: Y8/hQv/HhmEdurtsz6ERnQ==\n",
      "Sec-WebSocket-Version: 13\n",
      "\n",
      "\n",
      "-----------------------\n",
      "--- response header ---\n",
      "HTTP/1.1 101 Switching Protocols\n",
      "upgrade: websocket\n",
      "connection: upgrade\n",
      "sec-websocket-accept: 7NztMIgwbe3WpqwKKVm5I2oIUGY=\n",
      "-----------------------\n"
     ]
    },
    {
     "name": "stdout",
     "output_type": "stream",
     "text": [
      "### open ###\n",
      "Connection is already closed.\n",
      "### closed ###\n"
     ]
    },
    {
     "name": "stderr",
     "output_type": "stream",
     "text": [
      "--- request header ---\n",
      "GET /moves HTTP/1.1\n",
      "Upgrade: websocket\n",
      "Connection: Upgrade\n",
      "Host: 192.168.2.86:8080\n",
      "Origin: http://192.168.2.86:8080\n",
      "Sec-WebSocket-Key: phsqmD2JYFtcPsU30h3IvQ==\n",
      "Sec-WebSocket-Version: 13\n",
      "\n",
      "\n",
      "-----------------------\n",
      "--- response header ---\n",
      "HTTP/1.1 101 Switching Protocols\n",
      "upgrade: websocket\n",
      "connection: upgrade\n",
      "sec-websocket-accept: u9mtxSpCbNZFJAN8Jv9rIwFFvVY=\n",
      "-----------------------\n"
     ]
    },
    {
     "name": "stdout",
     "output_type": "stream",
     "text": [
      "### open ###\n"
     ]
    }
   ],
   "source": [
    "register('Snake Plisken', 'green')\n",
    "\n",
    "ws_gs.run_forever()   \n",
    "ws_mov.run_forever()   \n",
    "        "
   ]
  }
 ],
 "metadata": {
  "kernelspec": {
   "display_name": "Python 3",
   "language": "python",
   "name": "python3"
  },
  "language_info": {
   "codemirror_mode": {
    "name": "ipython",
    "version": 3
   },
   "file_extension": ".py",
   "mimetype": "text/x-python",
   "name": "python",
   "nbconvert_exporter": "python",
   "pygments_lexer": "ipython3",
   "version": "3.5.2"
  }
 },
 "nbformat": 4,
 "nbformat_minor": 2
}
