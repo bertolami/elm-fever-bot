{
 "cells": [
  {
   "cell_type": "code",
   "execution_count": 43,
   "metadata": {
    "collapsed": true
   },
   "outputs": [],
   "source": [
    "import math\n",
    "\n",
    "angleSpeed = 0.2\n",
    "speed = 0.11\n",
    "deltaTime = 10\n",
    "\n",
    "LEFT=1\n",
    "RIGHT=-1\n",
    "\n",
    "class Snake:\n",
    "    def __init__(self, name=\"\", angle=0.0, points=[(0,0)]):\n",
    "        self.name = name\n",
    "        self.angle = angle\n",
    "        self.points = points\n",
    "        \n",
    "    def left(self):\n",
    "        angle = self._calculate_angle(LEFT)\n",
    "        points = list(self.points) + [self._calculate_position(angle)]\n",
    "        return Snake(self.name, angle, points)\n",
    "    \n",
    "    def right(self):\n",
    "        angle = self._calculate_angle(RIGHT)\n",
    "        points = list(self.points) + [self._calculate_position(angle)]\n",
    "        return Snake(self.name, angle, points)\n",
    "    \n",
    "    def straight(self):\n",
    "        points = self.points + list(self._calculate_position(self.angle))\n",
    "        return Snake(self.name, self.angle, points)\n",
    "    \n",
    "    def _calculate_angle(self, direction):\n",
    "        return self.angle + (angleSpeed * direction * deltaTime)\n",
    "\n",
    "    def _calculate_position(self, angle):\n",
    "        x = self.points[0][0] + (speed * math.cos(angle * math.pi / 180) * deltaTime)\n",
    "        y = self.points[0][1] + (speed * math.sin(angle * math.pi / 180) * deltaTime)\n",
    "        return (x,y)\n",
    "    \n",
    "class Model:\n",
    "    def __init__(self, snakes=[]):\n",
    "        self.snakes = snakes\n",
    "    "
   ]
  },
  {
   "cell_type": "code",
   "execution_count": 44,
   "metadata": {},
   "outputs": [
    {
     "name": "stdout",
     "output_type": "stream",
     "text": [
      "True\n"
     ]
    }
   ],
   "source": [
    "s = Snake()\n",
    "print(s.left().left().straight().right().right().angle == s.angle)"
   ]
  },
  {
   "cell_type": "code",
   "execution_count": 46,
   "metadata": {},
   "outputs": [
    {
     "name": "stdout",
     "output_type": "stream",
     "text": [
      "[(0, 0), (1.0993299097210054, 0.03838944637275107), (1.0973204552858067, 0.07673212111853783)]\n"
     ]
    }
   ],
   "source": [
    "s = Snake()\n",
    "print(s.left().left().points)"
   ]
  }
 ],
 "metadata": {
  "kernelspec": {
   "display_name": "Python 3",
   "language": "python",
   "name": "python3"
  },
  "language_info": {
   "codemirror_mode": {
    "name": "ipython",
    "version": 3
   },
   "file_extension": ".py",
   "mimetype": "text/x-python",
   "name": "python",
   "nbconvert_exporter": "python",
   "pygments_lexer": "ipython3",
   "version": "3.5.2"
  }
 },
 "nbformat": 4,
 "nbformat_minor": 2
}
